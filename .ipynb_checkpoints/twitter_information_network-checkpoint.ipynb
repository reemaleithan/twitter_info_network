{
 "cells": [
  {
   "cell_type": "code",
   "execution_count": 1,
   "metadata": {},
   "outputs": [
    {
     "name": "stdout",
     "output_type": "stream",
     "text": [
      "Found existing installation: twint 2.1.21\n",
      "Uninstalling twint-2.1.21:\n",
      "  Successfully uninstalled twint-2.1.21\n"
     ]
    }
   ],
   "source": [
    "!pip3 uninstall twint --yes\n"
   ]
  },
  {
   "cell_type": "code",
   "execution_count": 2,
   "metadata": {
    "scrolled": true
   },
   "outputs": [
    {
     "name": "stdout",
     "output_type": "stream",
     "text": [
      "Collecting git+https://github.com/twintproject/twint.git@origin/master\n",
      "  Cloning https://github.com/twintproject/twint.git (to revision origin/master) to c:\\users\\reema\\appdata\\local\\temp\\pip-req-build-j4ii6zj7\n",
      "Requirement already satisfied, skipping upgrade: aiohttp in c:\\users\\reema\\appdata\\roaming\\python\\python36\\site-packages (from twint==2.1.21) (3.7.4.post0)\n",
      "Requirement already satisfied, skipping upgrade: aiodns in c:\\users\\reema\\appdata\\roaming\\python\\python36\\site-packages (from twint==2.1.21) (2.0.0)\n",
      "Requirement already satisfied, skipping upgrade: beautifulsoup4 in c:\\users\\reema\\appdata\\roaming\\python\\python36\\site-packages (from twint==2.1.21) (4.9.3)\n",
      "Requirement already satisfied, skipping upgrade: cchardet in c:\\users\\reema\\appdata\\roaming\\python\\python36\\site-packages (from twint==2.1.21) (2.1.7)\n",
      "Requirement already satisfied, skipping upgrade: dataclasses in c:\\users\\reema\\appdata\\roaming\\python\\python36\\site-packages (from twint==2.1.21) (0.8)\n",
      "Requirement already satisfied, skipping upgrade: elasticsearch in c:\\users\\reema\\appdata\\roaming\\python\\python36\\site-packages (from twint==2.1.21) (7.11.0)\n",
      "Requirement already satisfied, skipping upgrade: pysocks in c:\\users\\reema\\appdata\\roaming\\python\\python36\\site-packages (from twint==2.1.21) (1.7.1)\n",
      "Requirement already satisfied, skipping upgrade: pandas in c:\\users\\reema\\appdata\\local\\programs\\python\\python36\\lib\\site-packages (from twint==2.1.21) (1.0.3)\n",
      "Requirement already satisfied, skipping upgrade: aiohttp_socks in c:\\users\\reema\\appdata\\local\\programs\\python\\python36\\lib\\site-packages (from twint==2.1.21) (0.4.1)\n",
      "Requirement already satisfied, skipping upgrade: schedule in c:\\users\\reema\\appdata\\roaming\\python\\python36\\site-packages (from twint==2.1.21) (1.0.0)\n",
      "Requirement already satisfied, skipping upgrade: geopy in c:\\users\\reema\\appdata\\roaming\\python\\python36\\site-packages (from twint==2.1.21) (2.1.0)\n",
      "Requirement already satisfied, skipping upgrade: fake-useragent in c:\\users\\reema\\appdata\\roaming\\python\\python36\\site-packages (from twint==2.1.21) (0.1.11)\n",
      "Requirement already satisfied, skipping upgrade: googletransx in c:\\users\\reema\\appdata\\roaming\\python\\python36\\site-packages (from twint==2.1.21) (2.4.2)\n",
      "Requirement already satisfied, skipping upgrade: async-timeout<4.0,>=3.0 in c:\\users\\reema\\appdata\\roaming\\python\\python36\\site-packages (from aiohttp->twint==2.1.21) (3.0.1)\n",
      "Requirement already satisfied, skipping upgrade: chardet<5.0,>=2.0 in c:\\users\\reema\\appdata\\local\\programs\\python\\python36\\lib\\site-packages (from aiohttp->twint==2.1.21) (3.0.4)\n",
      "Requirement already satisfied, skipping upgrade: typing-extensions>=3.6.5 in c:\\users\\reema\\appdata\\roaming\\python\\python36\\site-packages (from aiohttp->twint==2.1.21) (3.7.4.3)\n",
      "Requirement already satisfied, skipping upgrade: multidict<7.0,>=4.5 in c:\\users\\reema\\appdata\\roaming\\python\\python36\\site-packages (from aiohttp->twint==2.1.21) (5.1.0)\n",
      "Requirement already satisfied, skipping upgrade: attrs>=17.3.0 in c:\\users\\reema\\appdata\\local\\programs\\python\\python36\\lib\\site-packages (from aiohttp->twint==2.1.21) (20.1.0)\n",
      "Requirement already satisfied, skipping upgrade: yarl<2.0,>=1.0 in c:\\users\\reema\\appdata\\roaming\\python\\python36\\site-packages (from aiohttp->twint==2.1.21) (1.6.3)\n",
      "Requirement already satisfied, skipping upgrade: idna-ssl>=1.0; python_version < \"3.7\" in c:\\users\\reema\\appdata\\roaming\\python\\python36\\site-packages (from aiohttp->twint==2.1.21) (1.1.0)\n",
      "Requirement already satisfied, skipping upgrade: pycares>=3.0.0 in c:\\users\\reema\\appdata\\roaming\\python\\python36\\site-packages (from aiodns->twint==2.1.21) (3.1.1)\n",
      "Requirement already satisfied, skipping upgrade: typing; python_version < \"3.7\" in c:\\users\\reema\\appdata\\roaming\\python\\python36\\site-packages (from aiodns->twint==2.1.21) (3.7.4.3)\n",
      "Requirement already satisfied, skipping upgrade: soupsieve>1.2; python_version >= \"3.0\" in c:\\users\\reema\\appdata\\roaming\\python\\python36\\site-packages (from beautifulsoup4->twint==2.1.21) (2.2)\n",
      "Requirement already satisfied, skipping upgrade: urllib3<2,>=1.21.1 in c:\\users\\reema\\appdata\\local\\programs\\python\\python36\\lib\\site-packages (from elasticsearch->twint==2.1.21) (1.25.9)\n",
      "Requirement already satisfied, skipping upgrade: certifi in c:\\users\\reema\\appdata\\local\\programs\\python\\python36\\lib\\site-packages (from elasticsearch->twint==2.1.21) (2020.4.5.1)\n",
      "Requirement already satisfied, skipping upgrade: pytz>=2017.2 in c:\\users\\reema\\appdata\\local\\programs\\python\\python36\\lib\\site-packages (from pandas->twint==2.1.21) (2020.1)\n",
      "Requirement already satisfied, skipping upgrade: numpy>=1.13.3 in c:\\users\\reema\\appdata\\local\\programs\\python\\python36\\lib\\site-packages (from pandas->twint==2.1.21) (1.18.5)\n",
      "Requirement already satisfied, skipping upgrade: python-dateutil>=2.6.1 in c:\\users\\reema\\appdata\\local\\programs\\python\\python36\\lib\\site-packages (from pandas->twint==2.1.21) (2.8.1)\n",
      "Requirement already satisfied, skipping upgrade: geographiclib<2,>=1.49 in c:\\users\\reema\\appdata\\roaming\\python\\python36\\site-packages (from geopy->twint==2.1.21) (1.50)\n",
      "Requirement already satisfied, skipping upgrade: requests in c:\\users\\reema\\appdata\\local\\programs\\python\\python36\\lib\\site-packages (from googletransx->twint==2.1.21) (2.23.0)\n",
      "Requirement already satisfied, skipping upgrade: idna>=2.0 in c:\\users\\reema\\appdata\\local\\programs\\python\\python36\\lib\\site-packages (from yarl<2.0,>=1.0->aiohttp->twint==2.1.21) (2.9)\n",
      "Requirement already satisfied, skipping upgrade: cffi>=1.5.0 in c:\\users\\reema\\appdata\\roaming\\python\\python36\\site-packages (from pycares>=3.0.0->aiodns->twint==2.1.21) (1.14.5)\n",
      "Requirement already satisfied, skipping upgrade: six>=1.5 in c:\\users\\reema\\appdata\\local\\programs\\python\\python36\\lib\\site-packages (from python-dateutil>=2.6.1->pandas->twint==2.1.21) (1.14.0)\n",
      "Requirement already satisfied, skipping upgrade: pycparser in c:\\users\\reema\\appdata\\roaming\\python\\python36\\site-packages (from cffi>=1.5.0->pycares>=3.0.0->aiodns->twint==2.1.21) (2.20)\n",
      "Building wheels for collected packages: twint\n",
      "  Building wheel for twint (setup.py): started\n",
      "  Building wheel for twint (setup.py): finished with status 'done'\n",
      "  Created wheel for twint: filename=twint-2.1.21-py3-none-any.whl size=39138 sha256=771c60786cf35a511cf0f6de894fbd0b47a7ba4815f585687d1bf1f1dc928684\n",
      "  Stored in directory: C:\\Users\\reema\\AppData\\Local\\Temp\\pip-ephem-wheel-cache-58lyhfli\\wheels\\c9\\d4\\7d\\fb0732852f335c92c52450e5c86b6ba5fb09fa226f3584db34\n",
      "Successfully built twint\n",
      "Installing collected packages: twint\n",
      "Successfully installed twint-2.1.21\n"
     ]
    },
    {
     "name": "stderr",
     "output_type": "stream",
     "text": [
      "  WARNING: Did not find branch or tag 'origin/master', assuming revision or ref.\n",
      "  WARNING: The script twint.exe is installed in 'C:\\Users\\reema\\AppData\\Roaming\\Python\\Python36\\Scripts' which is not on PATH.\n",
      "  Consider adding this directory to PATH or, if you prefer to suppress this warning, use --no-warn-script-location.\n",
      "WARNING: You are using pip version 20.2.2; however, version 21.0.1 is available.\n",
      "You should consider upgrading via the 'c:\\users\\reema\\appdata\\local\\programs\\python\\python36\\python.exe -m pip install --upgrade pip' command.\n"
     ]
    }
   ],
   "source": [
    "!pip3 install --user --upgrade git+https://github.com/twintproject/twint.git@origin/master"
   ]
  },
  {
   "cell_type": "code",
   "execution_count": 3,
   "metadata": {},
   "outputs": [
    {
     "name": "stdout",
     "output_type": "stream",
     "text": [
      "Requirement already satisfied: nest_asyncio in c:\\users\\reema\\appdata\\local\\programs\\python\\python36\\lib\\site-packages (1.5.1)\n"
     ]
    },
    {
     "name": "stderr",
     "output_type": "stream",
     "text": [
      "WARNING: You are using pip version 20.2.2; however, version 21.0.1 is available.\n",
      "You should consider upgrading via the 'c:\\users\\reema\\appdata\\local\\programs\\python\\python36\\python.exe -m pip install --upgrade pip' command.\n"
     ]
    }
   ],
   "source": [
    "!pip3 install nest_asyncio"
   ]
  },
  {
   "cell_type": "code",
   "execution_count": 4,
   "metadata": {},
   "outputs": [
    {
     "name": "stdout",
     "output_type": "stream",
     "text": [
      "Requirement already satisfied: python-dotenv in c:\\users\\reema\\appdata\\local\\programs\\python\\python36\\lib\\site-packages (0.15.0)\n"
     ]
    },
    {
     "name": "stderr",
     "output_type": "stream",
     "text": [
      "WARNING: You are using pip version 20.2.2; however, version 21.0.1 is available.\n",
      "You should consider upgrading via the 'c:\\users\\reema\\appdata\\local\\programs\\python\\python36\\python.exe -m pip install --upgrade pip' command.\n"
     ]
    }
   ],
   "source": [
    "!pip3 install python-dotenv"
   ]
  },
  {
   "cell_type": "code",
   "execution_count": 5,
   "metadata": {},
   "outputs": [],
   "source": [
    "!pip3 freeze >requirements.txt"
   ]
  },
  {
   "cell_type": "code",
   "execution_count": 6,
   "metadata": {},
   "outputs": [
    {
     "name": "stdout",
     "output_type": "stream",
     "text": [
      "Requirement already satisfied: tweepy in c:\\users\\reema\\appdata\\local\\programs\\python\\python36\\lib\\site-packages (3.10.0)"
     ]
    },
    {
     "name": "stderr",
     "output_type": "stream",
     "text": [
      "WARNING: You are using pip version 20.2.2; however, version 21.0.1 is available.\n",
      "You should consider upgrading via the 'c:\\users\\reema\\appdata\\local\\programs\\python\\python36\\python.exe -m pip install --upgrade pip' command.\n"
     ]
    },
    {
     "name": "stdout",
     "output_type": "stream",
     "text": [
      "\n",
      "Requirement already satisfied: requests-oauthlib<2,>=1.0.0 in c:\\users\\reema\\appdata\\local\\programs\\python\\python36\\lib\\site-packages (from tweepy) (1.3.0)\n",
      "Requirement already satisfied: requests<3,>=2.11.1 in c:\\users\\reema\\appdata\\local\\programs\\python\\python36\\lib\\site-packages (from tweepy) (2.23.0)\n",
      "Requirement already satisfied: oauthlib>=3.0.0 in c:\\users\\reema\\appdata\\local\\programs\\python\\python36\\lib\\site-packages (from requests-oauthlib<2,>=1.0.0->tweepy) (3.1.0)\n",
      "Requirement already satisfied: certifi>=2017.4.17 in c:\\users\\reema\\appdata\\local\\programs\\python\\python36\\lib\\site-packages (from requests<3,>=2.11.1->tweepy) (2020.4.5.1)\n",
      "Requirement already satisfied: idna<3,>=2.5 in c:\\users\\reema\\appdata\\local\\programs\\python\\python36\\lib\\site-packages (from requests<3,>=2.11.1->tweepy) (2.9)\n",
      "Requirement already satisfied: urllib3!=1.25.0,!=1.25.1,<1.26,>=1.21.1 in c:\\users\\reema\\appdata\\local\\programs\\python\\python36\\lib\\site-packages (from requests<3,>=2.11.1->tweepy) (1.25.9)\n",
      "Requirement already satisfied: chardet<4,>=3.0.2 in c:\\users\\reema\\appdata\\local\\programs\\python\\python36\\lib\\site-packages (from requests<3,>=2.11.1->tweepy) (3.0.4)\n"
     ]
    }
   ],
   "source": [
    "!pip3 install tweepy"
   ]
  },
  {
   "cell_type": "code",
   "execution_count": 62,
   "metadata": {},
   "outputs": [],
   "source": [
    "'''\n",
    "Author: Paul Owe\n",
    "Description: This is a twitter client that handles authentication to twitter via tweepy API.\n",
    "For authentication you will need API keys from twitter. You can apply here https://developer.twitter.com/en\n",
    "Note: Keep these keys private.\n",
    "Last updated: Mar 4, 2021\n",
    "/'''\n",
    "# import os\n",
    "# import sys\n",
    "# from tweepy import API\n",
    "# from tweepy import OAuthHandler\n",
    "# from dotenv import load_dotenv\n",
    "\n",
    "# def get_twitter_auth():\n",
    "#     #set up twitter authentication\n",
    "\n",
    "#     # Return: tweepy.OAuthHandler object\n",
    "\n",
    "#     try:\n",
    "#         load_dotenv()\n",
    "#         access_secret = \"gjxpdHcVwVT4G7aGBMz654DLHk1aVu1zBXVTohMifq2XU\"\n",
    "#         access_token = \"922977192-jzCCOIHFYh8Fs9N5DjlxZfW6CxgtLzPZyohYuqTX\"\n",
    "#         consumer_secret = \"pCmBTZ6dBqCaf1BTffkF8il0AAiWIhgUlYhhZ7jDZFMFuDyNa5\"\n",
    "#         consumer_key = \"bPIKaiR4d91amYlft7s6p39Nz\"\n",
    "#     except KeyError:\n",
    "#         sys.stderr.write(\"TWITTER_* environment variables not set\\n\")\n",
    "#         sys.exit(1)\n",
    "#     auth = OAuthHandler(consumer_key, consumer_secret)\n",
    "#     auth.set_access_token(access_token, access_secret)\n",
    "#     return auth\n",
    "\n",
    "\n",
    "# def get_twitter_client():\n",
    "#     #Setu twitter API client.\n",
    "\n",
    "#     # Return tweepy.API object\n",
    "\n",
    "# #     auth = get_twitter_auth()\n",
    "#     client = API(auth)\n",
    "#     return client"
   ]
  },
  {
   "cell_type": "code",
   "execution_count": 2,
   "metadata": {},
   "outputs": [],
   "source": [
    "import os, sys, time, csv, math\n",
    "# Basic utilities for processing data in python\n",
    "import pandas as pd\n",
    "import numpy as np\n",
    "# Open source Twitter intelligence tool\n",
    "import twint\n",
    "# Twitter API client\n",
    "from twitter_client import get_twitter_client\n",
    "\n",
    "import tweepy\n",
    "from tweepy import Cursor\n",
    "# Removes runtimeError in jupyterlab -> This event loop is already running\n",
    "import nest_asyncio\n",
    "nest_asyncio.apply()"
   ]
  },
  {
   "cell_type": "code",
   "execution_count": 69,
   "metadata": {},
   "outputs": [],
   "source": [
    "\n",
    "%%capture\n",
    "# Configure twint query parameters to find all users talking about FSL\n",
    "\n",
    "qp = twint.Config()\n",
    "qp.Search = \"Consortium of Online International Learning\"\n",
    "qp.Output = \"vm-terms.csv\"\n",
    "qp.Store_csv = True\n",
    "\n",
    "# Run twint on configured qp\n",
    "\n",
    "twint.run.Search(qp)\n",
    "print(\"Running search query\")"
   ]
  },
  {
   "cell_type": "code",
   "execution_count": 9,
   "metadata": {},
   "outputs": [],
   "source": [
    "# variables\n",
    "MAX_FRIENDS = 15000\n",
    "client = get_twitter_client()\n",
    "max_pages = math.ceil(MAX_FRIENDS/ 5000)"
   ]
  },
  {
   "cell_type": "code",
   "execution_count": 10,
   "metadata": {},
   "outputs": [],
   "source": [
    "#setup paginate function\n",
    "def paginate(items, n):\n",
    "    \"\"\"\n",
    "    Generate n-sized chunks from Items\n",
    "\n",
    "    \"\"\"\n",
    "    for i in range(0, len(items), n):\n",
    "        yield items[i:i+n]"
   ]
  },
  {
   "cell_type": "code",
   "execution_count": 11,
   "metadata": {},
   "outputs": [
    {
     "name": "stdout",
     "output_type": "stream",
     "text": [
      "[['id', 'conversation_id', 'created_at', 'date', 'time', 'timezone', 'user_id', 'username', 'name', 'place', 'tweet', 'language', 'mentions', 'urls', 'photos', 'replies_count', 'retweets_count', 'likes_count', 'hashtags', 'cashtags', 'link', 'retweet', 'quote_url', 'video', 'thumbnail', 'near', 'geo', 'source', 'user_rt_id', 'user_rt', 'retweet_id', 'reply_to', 'retweet_date', 'translate', 'trans_src', 'trans_dest']]\n"
     ]
    }
   ],
   "source": [
    "#Open csv file to extract column names\n",
    "with open('data/gnl.csv', encoding=\"utf8\") as csv_file:\n",
    "    csv_reader = csv.reader(csv_file)\n",
    "    columnNames = []\n",
    "    for row in csv_reader:\n",
    "        columnNames.append(row)\n",
    "        #break after reading first row\n",
    "        break\n",
    "print(columnNames)\n",
    "columnNames = columnNames[0]"
   ]
  },
  {
   "cell_type": "code",
   "execution_count": 12,
   "metadata": {},
   "outputs": [],
   "source": [
    "data = pd.read_csv('data/gnl.csv', names=columnNames)\n",
    "#extract user ids\n",
    "# userids = data.id.tolist()\n",
    "# users_list = []\n",
    "# for id in userids:\n",
    "#     try:\n",
    "#         print(id)\n",
    "#         users_list.append(client.get_user(user_id=id))\n",
    "#     except tweepy.TweepError as err:\n",
    "#         print(\"user not found\")\n",
    "#         pass\n",
    "# print(users_list[1])\n",
    "\n"
   ]
  },
  {
   "cell_type": "code",
   "execution_count": 13,
   "metadata": {},
   "outputs": [],
   "source": [
    "#extract list of username from the csv file\n",
    "usernames = data.username.tolist()"
   ]
  },
  {
   "cell_type": "code",
   "execution_count": null,
   "metadata": {},
   "outputs": [],
   "source": [
    "print(usernames)"
   ]
  },
  {
   "cell_type": "code",
   "execution_count": 15,
   "metadata": {},
   "outputs": [
    {
     "ename": "FileNotFoundError",
     "evalue": "[Errno 2] File b'gnl-edges.csv' does not exist: b'gnl-edges.csv'",
     "output_type": "error",
     "traceback": [
      "\u001b[0;31m---------------------------------------------------------------------------\u001b[0m",
      "\u001b[0;31mFileNotFoundError\u001b[0m                         Traceback (most recent call last)",
      "\u001b[0;32m<ipython-input-15-2172e14b445c>\u001b[0m in \u001b[0;36m<module>\u001b[0;34m\u001b[0m\n\u001b[1;32m      5\u001b[0m \u001b[0;34m\u001b[0m\u001b[0m\n\u001b[1;32m      6\u001b[0m \u001b[0mprogress_params\u001b[0m \u001b[0;34m=\u001b[0m \u001b[0;34m[\u001b[0m\u001b[0;34m'explored_users'\u001b[0m\u001b[0;34m,\u001b[0m \u001b[0;34m'skipped_users'\u001b[0m\u001b[0;34m]\u001b[0m\u001b[0;34m\u001b[0m\u001b[0;34m\u001b[0m\u001b[0m\n\u001b[0;32m----> 7\u001b[0;31m \u001b[0mnetwork_progress\u001b[0m \u001b[0;34m=\u001b[0m \u001b[0mpd\u001b[0m\u001b[0;34m.\u001b[0m\u001b[0mread_csv\u001b[0m\u001b[0;34m(\u001b[0m\u001b[0;34m'gnl-edges.csv'\u001b[0m\u001b[0;34m,\u001b[0m \u001b[0mnames\u001b[0m\u001b[0;34m=\u001b[0m\u001b[0mprogress_params\u001b[0m\u001b[0;34m)\u001b[0m\u001b[0;34m\u001b[0m\u001b[0;34m\u001b[0m\u001b[0m\n\u001b[0m\u001b[1;32m      8\u001b[0m \u001b[0mexplored_users\u001b[0m \u001b[0;34m=\u001b[0m \u001b[0mnetwork_progress\u001b[0m\u001b[0;34m.\u001b[0m\u001b[0mexplored_users\u001b[0m\u001b[0;34m.\u001b[0m\u001b[0mtolist\u001b[0m\u001b[0;34m(\u001b[0m\u001b[0;34m)\u001b[0m\u001b[0;34m\u001b[0m\u001b[0;34m\u001b[0m\u001b[0m\n\u001b[1;32m      9\u001b[0m \u001b[0mskipped_users\u001b[0m \u001b[0;34m=\u001b[0m \u001b[0mnetwork_progress\u001b[0m\u001b[0;34m.\u001b[0m\u001b[0mskipped_users\u001b[0m\u001b[0;34m.\u001b[0m\u001b[0mtolist\u001b[0m\u001b[0;34m(\u001b[0m\u001b[0;34m)\u001b[0m\u001b[0;34m\u001b[0m\u001b[0;34m\u001b[0m\u001b[0m\n",
      "\u001b[0;32m~/opt/anaconda3/lib/python3.7/site-packages/pandas/io/parsers.py\u001b[0m in \u001b[0;36mparser_f\u001b[0;34m(filepath_or_buffer, sep, delimiter, header, names, index_col, usecols, squeeze, prefix, mangle_dupe_cols, dtype, engine, converters, true_values, false_values, skipinitialspace, skiprows, skipfooter, nrows, na_values, keep_default_na, na_filter, verbose, skip_blank_lines, parse_dates, infer_datetime_format, keep_date_col, date_parser, dayfirst, cache_dates, iterator, chunksize, compression, thousands, decimal, lineterminator, quotechar, quoting, doublequote, escapechar, comment, encoding, dialect, error_bad_lines, warn_bad_lines, delim_whitespace, low_memory, memory_map, float_precision)\u001b[0m\n\u001b[1;32m    683\u001b[0m         )\n\u001b[1;32m    684\u001b[0m \u001b[0;34m\u001b[0m\u001b[0m\n\u001b[0;32m--> 685\u001b[0;31m         \u001b[0;32mreturn\u001b[0m \u001b[0m_read\u001b[0m\u001b[0;34m(\u001b[0m\u001b[0mfilepath_or_buffer\u001b[0m\u001b[0;34m,\u001b[0m \u001b[0mkwds\u001b[0m\u001b[0;34m)\u001b[0m\u001b[0;34m\u001b[0m\u001b[0;34m\u001b[0m\u001b[0m\n\u001b[0m\u001b[1;32m    686\u001b[0m \u001b[0;34m\u001b[0m\u001b[0m\n\u001b[1;32m    687\u001b[0m     \u001b[0mparser_f\u001b[0m\u001b[0;34m.\u001b[0m\u001b[0m__name__\u001b[0m \u001b[0;34m=\u001b[0m \u001b[0mname\u001b[0m\u001b[0;34m\u001b[0m\u001b[0;34m\u001b[0m\u001b[0m\n",
      "\u001b[0;32m~/opt/anaconda3/lib/python3.7/site-packages/pandas/io/parsers.py\u001b[0m in \u001b[0;36m_read\u001b[0;34m(filepath_or_buffer, kwds)\u001b[0m\n\u001b[1;32m    455\u001b[0m \u001b[0;34m\u001b[0m\u001b[0m\n\u001b[1;32m    456\u001b[0m     \u001b[0;31m# Create the parser.\u001b[0m\u001b[0;34m\u001b[0m\u001b[0;34m\u001b[0m\u001b[0;34m\u001b[0m\u001b[0m\n\u001b[0;32m--> 457\u001b[0;31m     \u001b[0mparser\u001b[0m \u001b[0;34m=\u001b[0m \u001b[0mTextFileReader\u001b[0m\u001b[0;34m(\u001b[0m\u001b[0mfp_or_buf\u001b[0m\u001b[0;34m,\u001b[0m \u001b[0;34m**\u001b[0m\u001b[0mkwds\u001b[0m\u001b[0;34m)\u001b[0m\u001b[0;34m\u001b[0m\u001b[0;34m\u001b[0m\u001b[0m\n\u001b[0m\u001b[1;32m    458\u001b[0m \u001b[0;34m\u001b[0m\u001b[0m\n\u001b[1;32m    459\u001b[0m     \u001b[0;32mif\u001b[0m \u001b[0mchunksize\u001b[0m \u001b[0;32mor\u001b[0m \u001b[0miterator\u001b[0m\u001b[0;34m:\u001b[0m\u001b[0;34m\u001b[0m\u001b[0;34m\u001b[0m\u001b[0m\n",
      "\u001b[0;32m~/opt/anaconda3/lib/python3.7/site-packages/pandas/io/parsers.py\u001b[0m in \u001b[0;36m__init__\u001b[0;34m(self, f, engine, **kwds)\u001b[0m\n\u001b[1;32m    893\u001b[0m             \u001b[0mself\u001b[0m\u001b[0;34m.\u001b[0m\u001b[0moptions\u001b[0m\u001b[0;34m[\u001b[0m\u001b[0;34m\"has_index_names\"\u001b[0m\u001b[0;34m]\u001b[0m \u001b[0;34m=\u001b[0m \u001b[0mkwds\u001b[0m\u001b[0;34m[\u001b[0m\u001b[0;34m\"has_index_names\"\u001b[0m\u001b[0;34m]\u001b[0m\u001b[0;34m\u001b[0m\u001b[0;34m\u001b[0m\u001b[0m\n\u001b[1;32m    894\u001b[0m \u001b[0;34m\u001b[0m\u001b[0m\n\u001b[0;32m--> 895\u001b[0;31m         \u001b[0mself\u001b[0m\u001b[0;34m.\u001b[0m\u001b[0m_make_engine\u001b[0m\u001b[0;34m(\u001b[0m\u001b[0mself\u001b[0m\u001b[0;34m.\u001b[0m\u001b[0mengine\u001b[0m\u001b[0;34m)\u001b[0m\u001b[0;34m\u001b[0m\u001b[0;34m\u001b[0m\u001b[0m\n\u001b[0m\u001b[1;32m    896\u001b[0m \u001b[0;34m\u001b[0m\u001b[0m\n\u001b[1;32m    897\u001b[0m     \u001b[0;32mdef\u001b[0m \u001b[0mclose\u001b[0m\u001b[0;34m(\u001b[0m\u001b[0mself\u001b[0m\u001b[0;34m)\u001b[0m\u001b[0;34m:\u001b[0m\u001b[0;34m\u001b[0m\u001b[0;34m\u001b[0m\u001b[0m\n",
      "\u001b[0;32m~/opt/anaconda3/lib/python3.7/site-packages/pandas/io/parsers.py\u001b[0m in \u001b[0;36m_make_engine\u001b[0;34m(self, engine)\u001b[0m\n\u001b[1;32m   1133\u001b[0m     \u001b[0;32mdef\u001b[0m \u001b[0m_make_engine\u001b[0m\u001b[0;34m(\u001b[0m\u001b[0mself\u001b[0m\u001b[0;34m,\u001b[0m \u001b[0mengine\u001b[0m\u001b[0;34m=\u001b[0m\u001b[0;34m\"c\"\u001b[0m\u001b[0;34m)\u001b[0m\u001b[0;34m:\u001b[0m\u001b[0;34m\u001b[0m\u001b[0;34m\u001b[0m\u001b[0m\n\u001b[1;32m   1134\u001b[0m         \u001b[0;32mif\u001b[0m \u001b[0mengine\u001b[0m \u001b[0;34m==\u001b[0m \u001b[0;34m\"c\"\u001b[0m\u001b[0;34m:\u001b[0m\u001b[0;34m\u001b[0m\u001b[0;34m\u001b[0m\u001b[0m\n\u001b[0;32m-> 1135\u001b[0;31m             \u001b[0mself\u001b[0m\u001b[0;34m.\u001b[0m\u001b[0m_engine\u001b[0m \u001b[0;34m=\u001b[0m \u001b[0mCParserWrapper\u001b[0m\u001b[0;34m(\u001b[0m\u001b[0mself\u001b[0m\u001b[0;34m.\u001b[0m\u001b[0mf\u001b[0m\u001b[0;34m,\u001b[0m \u001b[0;34m**\u001b[0m\u001b[0mself\u001b[0m\u001b[0;34m.\u001b[0m\u001b[0moptions\u001b[0m\u001b[0;34m)\u001b[0m\u001b[0;34m\u001b[0m\u001b[0;34m\u001b[0m\u001b[0m\n\u001b[0m\u001b[1;32m   1136\u001b[0m         \u001b[0;32melse\u001b[0m\u001b[0;34m:\u001b[0m\u001b[0;34m\u001b[0m\u001b[0;34m\u001b[0m\u001b[0m\n\u001b[1;32m   1137\u001b[0m             \u001b[0;32mif\u001b[0m \u001b[0mengine\u001b[0m \u001b[0;34m==\u001b[0m \u001b[0;34m\"python\"\u001b[0m\u001b[0;34m:\u001b[0m\u001b[0;34m\u001b[0m\u001b[0;34m\u001b[0m\u001b[0m\n",
      "\u001b[0;32m~/opt/anaconda3/lib/python3.7/site-packages/pandas/io/parsers.py\u001b[0m in \u001b[0;36m__init__\u001b[0;34m(self, src, **kwds)\u001b[0m\n\u001b[1;32m   1915\u001b[0m         \u001b[0mkwds\u001b[0m\u001b[0;34m[\u001b[0m\u001b[0;34m\"usecols\"\u001b[0m\u001b[0;34m]\u001b[0m \u001b[0;34m=\u001b[0m \u001b[0mself\u001b[0m\u001b[0;34m.\u001b[0m\u001b[0musecols\u001b[0m\u001b[0;34m\u001b[0m\u001b[0;34m\u001b[0m\u001b[0m\n\u001b[1;32m   1916\u001b[0m \u001b[0;34m\u001b[0m\u001b[0m\n\u001b[0;32m-> 1917\u001b[0;31m         \u001b[0mself\u001b[0m\u001b[0;34m.\u001b[0m\u001b[0m_reader\u001b[0m \u001b[0;34m=\u001b[0m \u001b[0mparsers\u001b[0m\u001b[0;34m.\u001b[0m\u001b[0mTextReader\u001b[0m\u001b[0;34m(\u001b[0m\u001b[0msrc\u001b[0m\u001b[0;34m,\u001b[0m \u001b[0;34m**\u001b[0m\u001b[0mkwds\u001b[0m\u001b[0;34m)\u001b[0m\u001b[0;34m\u001b[0m\u001b[0;34m\u001b[0m\u001b[0m\n\u001b[0m\u001b[1;32m   1918\u001b[0m         \u001b[0mself\u001b[0m\u001b[0;34m.\u001b[0m\u001b[0munnamed_cols\u001b[0m \u001b[0;34m=\u001b[0m \u001b[0mself\u001b[0m\u001b[0;34m.\u001b[0m\u001b[0m_reader\u001b[0m\u001b[0;34m.\u001b[0m\u001b[0munnamed_cols\u001b[0m\u001b[0;34m\u001b[0m\u001b[0;34m\u001b[0m\u001b[0m\n\u001b[1;32m   1919\u001b[0m \u001b[0;34m\u001b[0m\u001b[0m\n",
      "\u001b[0;32mpandas/_libs/parsers.pyx\u001b[0m in \u001b[0;36mpandas._libs.parsers.TextReader.__cinit__\u001b[0;34m()\u001b[0m\n",
      "\u001b[0;32mpandas/_libs/parsers.pyx\u001b[0m in \u001b[0;36mpandas._libs.parsers.TextReader._setup_parser_source\u001b[0;34m()\u001b[0m\n",
      "\u001b[0;31mFileNotFoundError\u001b[0m: [Errno 2] File b'gnl-edges.csv' does not exist: b'gnl-edges.csv'"
     ]
    }
   ],
   "source": [
    "# make sure you are not repeating already scraped users. You will waste time\n",
    "# for this, check your network-progress list for users you already have scraped and remove them from usernames \n",
    "\n",
    "# load updated username list before you continue to build your network \n",
    "\n",
    "progress_params = ['explored_users', 'skipped_users']\n",
    "network_progress = pd.read_csv('network-data/gnl-network/gnl-edges.csv', names=progress_params)\n",
    "explored_users = network_progress.explored_users.tolist()\n",
    "skipped_users = network_progress.skipped_users.tolist()\n",
    "# ignoring the nan's and column names, len(explored) + len(skipped) = len(usernames) \n",
    "unames = [ x for x in usernames if x not in (explored_users + skipped_users)]\n",
    "\n",
    "#loop through all users and write their followers to csv\n",
    "\n",
    "for user in unames:\n",
    "    \n",
    "    try:\n",
    "        fname = \"network-data/gnl-network/gnl-edges.csv\"\n",
    "        fieldnames = ['Source', 'Target']\n",
    "        with open(fname, 'a') as f:\n",
    "\n",
    "            csv_writer = csv.DictWriter(f, fieldnames=fieldnames)\n",
    "\n",
    "            # get a user's followers list\n",
    "            for followers in Cursor(client.followers_ids, screen_name=user).pages(max_pages):\n",
    "                for chunk in paginate(followers, 100):\n",
    "                    userFollowers = client.lookup_users(user_ids=chunk)\n",
    "\n",
    "                    for follower in userFollowers:\n",
    "\n",
    "                        #print(len(users))\n",
    "\n",
    "                        #print(follower.screen_name)\n",
    "                        #print(follower.screen_name)\n",
    "                        csv_writer.writerow({'Source': follower.screen_name, 'Target': user})\n",
    "\n",
    "                    # f.write(json.dumps(user._json)+\"\\n\")\n",
    "                if len(followers) == 5000:\n",
    "                    print(\"More results available. Sleeping for 60 seconds to avoid rate limit\")\n",
    "                    time.sleep(60)\n",
    "\n",
    "            # get a user's following list\n",
    "            for friends in Cursor(client.friends_ids, screen_name=user).pages(max_pages):\n",
    "\n",
    "                for chunk in paginate(friends, 100):\n",
    "                    userFollowing = client.lookup_users(user_ids=chunk)\n",
    "                    for followed in userFollowing:\n",
    "                        csv_writer.writerow({'Source': user, 'Target': followed.screen_name})\n",
    "                if len(friends) == 5000:\n",
    "                    print(\"More results available. Sleeping for 60 seconds to avoid rate limit\")\n",
    "                    time.sleep(60)\n",
    "\n",
    "            f.close()\n",
    "\n",
    "            # Update network-progress\n",
    "            with open('network-data/gnl-network/gnl-progress.csv', 'a') as nprog:\n",
    "                nprog_updater = csv.DictWriter(nprog, fieldnames=progress_params)\n",
    "                nprog_updater.writerow({'explored_users': user, 'skipped_users': ' '})\n",
    "                nprog.close()\n",
    "\n",
    "\n",
    "\n",
    "            \n",
    "    except tweepy.TweepError as err:\n",
    "            print(\"Tweepy error occured: {}. Skipped adding user: {}\".format(err, user))\n",
    "\n",
    "\n",
    "            with open('network-data/gnl-network/gnl-progress.csv', 'a') as nprog:\n",
    "                nprog_updater = csv.DictWriter(nprog, fieldnames=progress_params)\n",
    "                nprog_updater.writerow({'explored_users': ' ', 'skipped_users': user})\n",
    "                nprog.close()\n",
    "            pass"
   ]
  },
  {
   "cell_type": "code",
   "execution_count": null,
   "metadata": {},
   "outputs": [],
   "source": []
  },
  {
   "cell_type": "code",
   "execution_count": null,
   "metadata": {},
   "outputs": [],
   "source": []
  }
 ],
 "metadata": {
  "kernelspec": {
   "display_name": "Python 3",
   "language": "python",
   "name": "python3"
  },
  "language_info": {
   "codemirror_mode": {
    "name": "ipython",
    "version": 3
   },
   "file_extension": ".py",
   "mimetype": "text/x-python",
   "name": "python",
   "nbconvert_exporter": "python",
   "pygments_lexer": "ipython3",
   "version": "3.7.4"
  }
 },
 "nbformat": 4,
 "nbformat_minor": 4
}
